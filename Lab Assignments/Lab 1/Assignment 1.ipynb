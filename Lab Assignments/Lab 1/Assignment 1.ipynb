{
 "cells": [
  {
   "cell_type": "markdown",
   "metadata": {},
   "source": [
    "1. Shift Left k Cells\n",
    "\n",
    "Consider an array named source. Write a method/function named shiftLeft( source, k)\n",
    "that shifts all the elements of the source array to the left by 'k' positions. You must\n",
    "execute the method by passing an array and number of cells to be shifted. After calling\n",
    "the method, print the array to show whether the elements have been shifted properly.\n",
    "Example:\n",
    "source=[10,20,30,40,50,60]\n",
    "shiftLeft(source,3)\n",
    "After calling shiftLeft(source,3), printing the array should give the output as:\n",
    "[ 40, 50, 60, 0, 0, 0 ]"
   ]
  },
  {
   "cell_type": "code",
   "execution_count": 2,
   "metadata": {},
   "outputs": [
    {
     "data": {
      "text/plain": [
       "[40, 50, 60, 0, 0, 0]"
      ]
     },
     "execution_count": 2,
     "metadata": {},
     "output_type": "execute_result"
    }
   ],
   "source": [
    "def shiftLeft(source, k):\n",
    "    \n",
    "    \n",
    "    \n",
    "    for count in range(k):\n",
    "\n",
    "        for i in range(1, len(source)):\n",
    "            source[i-1] = source[i]\n",
    "            \n",
    "        source[len(source)-1] = 0\n",
    "        \n",
    "    return source\n",
    "        \n",
    "    \n",
    "    \n",
    "    \n",
    "    \n",
    "source=[10,20,30,40,50,60]\n",
    "shiftLeft(source, 3)"
   ]
  },
  {
   "cell_type": "markdown",
   "metadata": {},
   "source": [
    "2. Rotate Left k cells\n",
    "Consider an array named source. Write a method/function named rotateLeft( source, k)\n",
    "that rotates all the elements of the source array to the left by 'k' positions. You must\n",
    "execute the method by passing an array and number of cells to be shifted. After calling\n",
    "the method, print the array to show whether the elements have been shifted properly.\n",
    "Example:\n",
    "source=[10,20,30,40,50,60]\n",
    "rotateLeft(source,3)\n",
    "After calling rotateLeft(source,3), printing the array should give the output as:\n",
    "[ 40, 50, 60, 10, 20, 30]\n"
   ]
  },
  {
   "cell_type": "code",
   "execution_count": 10,
   "metadata": {},
   "outputs": [
    {
     "data": {
      "text/plain": [
       "[40, 50, 60, 10, 20, 30]"
      ]
     },
     "execution_count": 10,
     "metadata": {},
     "output_type": "execute_result"
    }
   ],
   "source": [
    "def shiftLeft(source, k):\n",
    "    \n",
    "    \n",
    "    \n",
    "    for count in range(k):\n",
    "        x = source[0]\n",
    "        for i in range(1, len(source)):\n",
    "            source[i-1] = source[i]\n",
    "            \n",
    "        source[len(source)-1] = x\n",
    "        \n",
    "    return source\n",
    "    \n",
    "    \n",
    "source=[10,20,30,40,50,60] \n",
    "shiftLeft(source, 3)"
   ]
  },
  {
   "cell_type": "markdown",
   "metadata": {},
   "source": [
    "3. Shift Right k Cells\n",
    "Consider an array named source. Write a method/function named shifRight( source, k)\n",
    "that shifts all the elements of the source array to the right by 'k' positions. You must\n",
    "execute the method by passing an array and number of cells to be shifted. After calling\n",
    "the method, print the array to show whether the elements have been shifted properly.\n",
    "Example:\n",
    "source=[10,20,30,40,50,60]\n",
    "shiftRight(source,3)\n",
    "After calling shiftRight(source,3), printing the array should give the output as:\n",
    "[ 0,0,0,10,20,30 ]"
   ]
  },
  {
   "cell_type": "code",
   "execution_count": 1,
   "metadata": {},
   "outputs": [
    {
     "data": {
      "text/plain": [
       "[0, 0, 0, 10, 20, 30]"
      ]
     },
     "execution_count": 1,
     "metadata": {},
     "output_type": "execute_result"
    }
   ],
   "source": [
    "def shiftRight(a, k):\n",
    "    \n",
    "    for count in range(k):\n",
    "\n",
    "        for i in range(len(source)-2, -1, -1):\n",
    "            source[i+1] = source[i]\n",
    "            \n",
    "        source[0] = 0\n",
    "        \n",
    "    return source\n",
    "\n",
    "source=[10,20,30,40,50,60]\n",
    "\n",
    "shiftRight(source, 3)"
   ]
  },
  {
   "cell_type": "markdown",
   "metadata": {},
   "source": [
    "4. Rotate Right k cells\n",
    "Consider an array named source. Write a method/function named rotateRight( source,\n",
    "k) that rotates all the elements of the source array to the right by 'k' positions. You must\n",
    "execute the method by passing an array and number of cells to be shifted. After calling\n",
    "the method, print the array to show whether the elements have been shifted properly.\n",
    "Example:\n",
    "source=[10,20,30,40,50,60]\n",
    "rotateRight(source,3)\n",
    "After calling rotateRight(source,3), printing the array should give the output as:\n",
    "[ 40, 50, 60, 10, 20, 30]"
   ]
  },
  {
   "cell_type": "code",
   "execution_count": 26,
   "metadata": {},
   "outputs": [
    {
     "data": {
      "text/plain": [
       "[40, 50, 60, 10, 20, 30]"
      ]
     },
     "execution_count": 26,
     "metadata": {},
     "output_type": "execute_result"
    }
   ],
   "source": [
    "def RotateRight(a, k):\n",
    "    \n",
    "    for count in range(k):\n",
    "        x = source[-1]\n",
    "        for i in range(len(source)-2, -1, -1):\n",
    "            source[i+1] = source[i]\n",
    "            \n",
    "        source[0] = x\n",
    "        \n",
    "    return source\n",
    "\n",
    "source=[10,20,30,40,50,60]\n",
    "\n",
    "RotateRight(source, 3)"
   ]
  },
  {
   "cell_type": "markdown",
   "metadata": {},
   "source": [
    "5. Remove an element from an array\n",
    "Consider an array named source. Write a method/function named remove( source,\n",
    "size, idx) that removes the element in index idx of the source array. You must execute\n",
    "the method by passing an array, its size and the idx( that is the index of the element to\n",
    "be removed). After calling the method, print the array to show whether the element of\n",
    "that particular index has been removed properly.\n",
    "Example:\n",
    "source=[10,20,30,40,50,0,0]\n",
    "remove(source,5,2)\n",
    "After calling remove(source,5,2) , printing the array should give the output as:\n",
    "[ 10,20,40,50,0,0,0]"
   ]
  },
  {
   "cell_type": "code",
   "execution_count": 29,
   "metadata": {},
   "outputs": [
    {
     "data": {
      "text/plain": [
       "[10, 20, 40, 50, 0, 0, 0]"
      ]
     },
     "execution_count": 29,
     "metadata": {},
     "output_type": "execute_result"
    }
   ],
   "source": [
    "def remove(source, size, idx):\n",
    "    if idx < 0 or idx > size:\n",
    "        print(\"Invalid Index\")\n",
    "        return\n",
    "\n",
    "    for i in range(size):\n",
    "        if i >= idx and i <= size - 1:\n",
    "            source[i] = source[i + 1]\n",
    "\n",
    "    source[size - 1] = 0\n",
    "\n",
    "    return source\n",
    "\n",
    "source = [10,20,30,40,50,0,0]\n",
    "remove(source,5,2)\n",
    "\n",
    "\n"
   ]
  },
  {
   "cell_type": "markdown",
   "metadata": {},
   "source": [
    "6. Remove all occurrences of a particular element from an array\n",
    "Consider an array named source. Write a method/function named removeAll( source,\n",
    "size, element) that removes all the occurrences of the given element in the source\n",
    "array. You must execute the method by passing an array, its size and the element to be\n",
    "removed. After calling the method, print the array to show whether all the occurrences\n",
    "of the element have been removed properly.\n",
    "Example:\n",
    "source=[10,2,30,2,50,2,2,0,0]\n",
    "removeAll(source,7,2)\n",
    "After calling removeAll(source,7,2), all the occurrences of 2 must be removed. Printing\n",
    "the array afterwards should give the output as:\n",
    "[ 10,30,50,0,0,0,0,0,0]"
   ]
  },
  {
   "cell_type": "code",
   "execution_count": 8,
   "metadata": {},
   "outputs": [
    {
     "data": {
      "text/plain": [
       "[10, 30, 50, 0, 0, 0, 0, 0, 0]"
      ]
     },
     "execution_count": 8,
     "metadata": {},
     "output_type": "execute_result"
    }
   ],
   "source": [
    "def removeall(source, size, element):\n",
    "    stack = []\n",
    "    \n",
    "    for i in range(len(source)):\n",
    "        if source[i] != element:\n",
    "            stack.append(source[i])\n",
    "    return stack + [0]*(len(source)-len(stack))\n",
    "\n",
    "\n",
    "source=[10,2,30,2,50,2,2,0,0]\n",
    "removeall(source,7,2)"
   ]
  },
  {
   "cell_type": "markdown",
   "metadata": {},
   "source": [
    "7. Splitting an Array\n",
    "Suppose the elements of an array A containing positive integers, denote the weights in\n",
    "kilograms. And we have a beam balance. We want to put the weights on both pans of\n",
    "the balance in such a way that for some index 0 < i < A.length - 1, all values starting\n",
    "from A[0], A[1], upto A[ i - 1], should be on the left pan. And all values starting from A[ i ]\n",
    "upto A[ A.length - 1] should be on the right pan and the left and right pan should be\n",
    "balanced. If such an i exists, return true . Else, return false.\n",
    "Input: [1, 1, 1, 2, 1] Output : true\n",
    "Explanation: (summation of [1, 1, 1] = summation of [2,1])\n",
    "Input: [2, 1, 1, 2, 1] Output: false\n",
    "Input: [10, 3, 1, 2, 10] Output: true\n",
    "Explanation: (summation of [10, 3] = summation of [1,2,10]))"
   ]
  },
  {
   "cell_type": "code",
   "execution_count": 4,
   "metadata": {},
   "outputs": [
    {
     "data": {
      "text/plain": [
       "True"
      ]
     },
     "execution_count": 4,
     "metadata": {},
     "output_type": "execute_result"
    }
   ],
   "source": [
    "def splitarray(source) :\n",
    "    \n",
    "    n = len(source)\n",
    "    leftSum = 0\n",
    "    \n",
    "\n",
    "    for i in range(n):\n",
    "       \n",
    "\n",
    "        leftSum += source[i] \n",
    "    \n",
    "\n",
    "        rightSum = 0 \n",
    "        for j in range(i+1, n) :\n",
    "            rightSum += source[j] \n",
    "    \n",
    "\n",
    "        if (leftSum == rightSum) :\n",
    "            return True\n",
    "       \n",
    "    \n",
    "\n",
    "    return False\n",
    "   \n",
    "\n",
    "\n",
    "source =  [1, 1, 1, 2, 1]\n",
    "splitarray(source)"
   ]
  },
  {
   "cell_type": "markdown",
   "metadata": {},
   "source": [
    "8. Array series\n",
    "Write a method that takes an integer value n as a parameter. Inside the method, you\n",
    "should create an array of length n squared (n*n) and fill the array with the following\n",
    "pattern. Return the array at the end and print it.\n",
    "If,\n",
    "n=2: { 0,1, 2,1 } (spaces have been added to show two distinct groups).\n",
    "n=3 : { 0, 0, 1, 0, 2, 1, 3, 2, 1 } ((spaces have been added to show three distinct\n",
    "groups).\n",
    "n=4 : {0, 0, 0, 1, 0, 0, 2, 1, 0, 3, 2, 1, 4, 3, 2, 1} (spaces have been added to show\n",
    "four distinct groups).\n"
   ]
  },
  {
   "cell_type": "code",
   "execution_count": 5,
   "metadata": {},
   "outputs": [
    {
     "data": {
      "text/plain": [
       "[0, 1, 2, 1]"
      ]
     },
     "execution_count": 5,
     "metadata": {},
     "output_type": "execute_result"
    }
   ],
   "source": [
    "def arrayseries(n):\n",
    "    stack = [0] * n**2\n",
    "    \n",
    "    x = 1\n",
    "    while x <= n:\n",
    "        y = 1\n",
    "        while y <= x: \n",
    "            stack[(x*n)-y] = y\n",
    "\n",
    "            y += 1\n",
    "        x += 1\n",
    "    return stack\n",
    "\n",
    "\n",
    "n = 2\n",
    "arrayseries(n)"
   ]
  },
  {
   "cell_type": "markdown",
   "metadata": {},
   "source": [
    "9. Max Bunch Count\n",
    "A \"bunch\" in an array is a consecutive chain of two or more adjacent elements of the\n",
    "same value. Write a method that returns the number of elements in the largest bunch\n",
    "found in the given array.\n",
    "Input: [1, 2, 2, 3, 4, 4, 4] Output: 3\n",
    "Explanation: There are two bunches here {2,2} and {4,4,4}. The largest bunch is {4,4,4}\n",
    "containing 3 elements so 3 is returned.\n",
    "Input: [1,1,2, 2, 1, 1,1,1] Output:4\n",
    "Explanation: There are three bunches here {1,1} and {2,2} and {1,1,1,1}. The largest\n",
    "bunch is {1,1,1,1} containing 4 elements so 4 is returned."
   ]
  },
  {
   "cell_type": "code",
   "execution_count": 41,
   "metadata": {},
   "outputs": [
    {
     "data": {
      "text/plain": [
       "3"
      ]
     },
     "execution_count": 41,
     "metadata": {},
     "output_type": "execute_result"
    }
   ],
   "source": [
    "def Max_Bunch_Count(source):\n",
    "    sum_list = []\n",
    "    first = source[0]\n",
    "    c = 0\n",
    "    for values in source:\n",
    "        if values == first:\n",
    "            c += 1\n",
    "\n",
    "        else:\n",
    "            first = values\n",
    "            c = 1\n",
    "        sum_list.append(c)\n",
    "    \n",
    "    max_val = sum_list[0]\n",
    "    for i in sum_list:\n",
    "        if i > max_val:\n",
    "            max_val = i\n",
    "            \n",
    "    return max_val\n",
    "\n",
    "\n",
    "source = [1, 2, 2, 3, 4, 4, 4]\n",
    "Max_Bunch_Count(source)"
   ]
  },
  {
   "cell_type": "markdown",
   "metadata": {},
   "source": [
    "10.Repetition\n",
    "\n",
    "Write a method that takes in an array as a parameter and counts the repetition of each\n",
    "element. That is, if an element has appeared in the array more than once, then its\n",
    "‘repetition’ is its number of occurrences. The method returns true if there are at least\n",
    "two elements with the same number of ‘repetition’. Otherwise, return false.\n",
    "Input: {4,5,6,6,4,3,6,4} Output: True\n",
    "Explanation: Two numbers repeat in this array: 4 and 6. 4 has a repetition of 3, 6 has a\n",
    "repetition of 3. Since two numbers have the same repetition output is True.\n",
    "Input: {3,4,6,3,4,7,4,6,8,6,6} Output: False"
   ]
  },
  {
   "cell_type": "code",
   "execution_count": 1,
   "metadata": {},
   "outputs": [
    {
     "data": {
      "text/plain": [
       "False"
      ]
     },
     "execution_count": 1,
     "metadata": {},
     "output_type": "execute_result"
    }
   ],
   "source": [
    "def repetition(lst):\n",
    "    \n",
    "    stack = []\n",
    "    checked = []\n",
    "    for i in lst:\n",
    "        if i not in checked:\n",
    "            count = 0\n",
    "            for ele in lst:\n",
    "                if (ele == i):\n",
    "                    count +=1\n",
    "            if count > 1:\n",
    "                stack.append(count)\n",
    "            checked.append(i)\n",
    " \n",
    "    first = stack[0];\n",
    "     \n",
    "    for i in range(1, len(stack)):\n",
    "        if (stack[i] != first):\n",
    "            return False;\n",
    "           \n",
    "    return True;\n",
    "\n",
    " \n",
    "\n",
    "source = [3,4,6,3,4,7,4,6,8,6,6]\n",
    "repetition(source)"
   ]
  },
  {
   "cell_type": "code",
   "execution_count": null,
   "metadata": {},
   "outputs": [],
   "source": []
  },
  {
   "cell_type": "code",
   "execution_count": null,
   "metadata": {},
   "outputs": [],
   "source": []
  }
 ],
 "metadata": {
  "kernelspec": {
   "display_name": "Python 3",
   "language": "python",
   "name": "python3"
  },
  "language_info": {
   "codemirror_mode": {
    "name": "ipython",
    "version": 3
   },
   "file_extension": ".py",
   "mimetype": "text/x-python",
   "name": "python",
   "nbconvert_exporter": "python",
   "pygments_lexer": "ipython3",
   "version": "3.8.3"
  }
 },
 "nbformat": 4,
 "nbformat_minor": 4
}
