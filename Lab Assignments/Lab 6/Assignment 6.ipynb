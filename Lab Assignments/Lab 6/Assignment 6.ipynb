{
 "cells": [
  {
   "cell_type": "markdown",
   "metadata": {},
   "source": [
    "## Task 1 "
   ]
  },
  {
   "cell_type": "code",
   "execution_count": 10,
   "metadata": {},
   "outputs": [
    {
     "name": "stdout",
     "output_type": "stream",
     "text": [
      "5\n",
      "1\n",
      "2\n",
      "3\n",
      "4\n",
      "5\n",
      "3\n",
      "9\n",
      "27\n"
     ]
    }
   ],
   "source": [
    "#Task 1a\n",
    "\n",
    "def factorial(n, memo = {0:1, 1:1}): \n",
    "  \n",
    "    if n in memo: \n",
    "        return memo[n] \n",
    "  \n",
    "    memo[n] = n * factorial(n-1, memo) \n",
    "    return memo[n]\n",
    "\n",
    "factorial(5)\n",
    "\n",
    "\n",
    "\n",
    "\n",
    "#Task 1b\n",
    "\n",
    "n = int(input())\n",
    "memo = {}\n",
    "\n",
    "def fibonnaci(n):\n",
    "    if n == 0:\n",
    "        return 0\n",
    "    if n == 1:\n",
    "        return 1\n",
    "    if n == 2:\n",
    "        return 1\n",
    "    if n in memo:\n",
    "        return memo[n]\n",
    "    \n",
    "    result = fibonnaci(n-1) + fibonnaci(n-2)\n",
    "    memo[n] = result\n",
    "    return result\n",
    "\n",
    "fibonnaci(n)\n",
    "\n",
    "# Task 1c\n",
    "def printArray(arr, index=0):\n",
    "    if len(arr) == index:\n",
    "        return\n",
    "    \n",
    "    print(arr[index])\n",
    "    printArray(arr, index+1)\n",
    "    \n",
    "    \n",
    "printArray([1, 2, 3, 4, 5])\n",
    "\n",
    "\n",
    "# Task 1d\n",
    "\n",
    "def powerN(base, n, memo={}):\n",
    "    if n in memo:\n",
    "        return memo[n]\n",
    "    if n == 0:\n",
    "        return 1\n",
    "    \n",
    "    memo[n] = base * powerN(base, n-1)\n",
    "    return memo[n]\n",
    "\n",
    "print(powerN(3, 1))\n",
    "print(powerN(3, 2))\n",
    "print(powerN(3, 3))"
   ]
  },
  {
   "cell_type": "markdown",
   "metadata": {},
   "source": [
    "## Task 2 "
   ]
  },
  {
   "cell_type": "code",
   "execution_count": 8,
   "metadata": {},
   "outputs": [
    {
     "name": "stdout",
     "output_type": "stream",
     "text": [
      "150\n",
      "50\n",
      "40\n",
      "30\n",
      "20\n",
      "10\n"
     ]
    }
   ],
   "source": [
    "#2a \n",
    "\n",
    "def decimalToBinaryMemo(num, memo = {}):\n",
    "    if num == 0:\n",
    "        return 0\n",
    "\n",
    "    if num in memo:\n",
    "        return memo[num]\n",
    "\n",
    "    memo[num] = decimalToBinaryMemo(num // 2) * 10 + (num % 2)\n",
    "\n",
    "    return memo[num]\n",
    "\n",
    "decimalToBinaryMemo(10)\n",
    "\n",
    "#Task-2b\n",
    "\n",
    "class Node:\n",
    "    \n",
    "    def __init__(self, elem):\n",
    "        self.elem = elem\n",
    "        self.next = None\n",
    "        \n",
    "        \n",
    "class Singlelinkedlist:\n",
    "    \n",
    "    def __init__(self):\n",
    "        self.head = None\n",
    "        \n",
    "        \n",
    "    def push(self, elem):\n",
    "        new_node = Node(elem)\n",
    "        if self.head is None:\n",
    "            self.head = new_node\n",
    "            new_node = self.head\n",
    "            \n",
    "        else:\n",
    "            temp = self.head\n",
    "            while temp.next is not None:\n",
    "                temp = temp.next\n",
    "                \n",
    "            temp.next = new_node\n",
    "            \n",
    "    def printList(self):\n",
    "        if self.head is None:\n",
    "            return\n",
    "        \n",
    "        else:\n",
    "            temp = self.head\n",
    "            while temp != None:\n",
    "                print(temp.elem, \"->\",temp.next)\n",
    "                temp = temp.next\n",
    "                \n",
    "                \n",
    "Linkedlist = Singlelinkedlist()\n",
    "Linkedlist.push(10)\n",
    "Linkedlist.push(20)\n",
    "Linkedlist.push(30)\n",
    "Linkedlist.push(40)\n",
    "Linkedlist.push(50)\n",
    "\n",
    "\n",
    "def addlist(head):\n",
    "    if head == None:\n",
    "        return 0\n",
    "    \n",
    "    return head.elem + addlist(head.next)\n",
    "\n",
    "\n",
    "print(addlist(Linkedlist.head))\n",
    "\n",
    "\n",
    "#2c\n",
    "\n",
    "class Node:\n",
    "    \n",
    "    def __init__(self, elem):\n",
    "        self.elem = elem\n",
    "        self.next = None\n",
    "        \n",
    "        \n",
    "class Singlelinkedlist2:\n",
    "    \n",
    "    def __init__(self):\n",
    "        self.head = None\n",
    "        \n",
    "    def push(self, elem):\n",
    "        new_node = Node(elem)\n",
    "        if self.head is None:\n",
    "            self.head = new_node\n",
    "            new_node = self.head\n",
    "            \n",
    "        else:\n",
    "            temp = self.head\n",
    "            while temp.next is not None:\n",
    "                temp = temp.next\n",
    "                \n",
    "            temp.next = new_node\n",
    "\n",
    "            \n",
    "            \n",
    "Linkedlist1 = Singlelinkedlist2()\n",
    "Linkedlist1.push(10)\n",
    "Linkedlist1.push(20)\n",
    "Linkedlist1.push(30)\n",
    "Linkedlist1.push(40)\n",
    "Linkedlist1.push(50)\n",
    "\n",
    "\n",
    "def reverse(head):\n",
    "    if head == None:\n",
    "        return \n",
    "    \n",
    "    reverse(head.next)\n",
    "    print(head.elem)\n",
    "    \n",
    "    \n",
    "reverse(Linkedlist1.head)"
   ]
  },
  {
   "cell_type": "markdown",
   "metadata": {},
   "source": [
    "## Task 3 "
   ]
  },
  {
   "cell_type": "code",
   "execution_count": 5,
   "metadata": {},
   "outputs": [
    {
     "name": "stdout",
     "output_type": "stream",
     "text": [
      "18\n"
     ]
    }
   ],
   "source": [
    "\n",
    "\n",
    "def hocBuilder(height):\n",
    "    if height<=0:\n",
    "        return\n",
    "    elif height==1:\n",
    "        return 8\n",
    "    else:\n",
    "        return 5+hocBuilder(height-1)\n",
    "    \n",
    "    \n",
    "x=hocBuilder(3)\n",
    "print(x)"
   ]
  },
  {
   "cell_type": "markdown",
   "metadata": {},
   "source": [
    "## Task 4 "
   ]
  },
  {
   "cell_type": "code",
   "execution_count": 3,
   "metadata": {},
   "outputs": [
    {
     "name": "stdout",
     "output_type": "stream",
     "text": [
      "Input:5\n",
      "1\n",
      "12\n",
      "123\n",
      "1234\n",
      "12345\n",
      "Input:5\n",
      "    1\n",
      "   12\n",
      "  123\n",
      " 1234\n",
      "12345\n"
     ]
    }
   ],
   "source": [
    "#a\n",
    "\n",
    "def recursionPattern(num,count=1,memo={}):\n",
    "    if count in memo:\n",
    "        return memo[count]\n",
    "    elif count==num+1:\n",
    "        return\n",
    "    else:\n",
    "        for x in range(1,count+1):\n",
    "            print(x,end='')\n",
    "        print()\n",
    "        memo[count]=recursionPattern(num,count+1,memo)\n",
    "num=int(input('Input:'))\n",
    "recursionPattern(num)\n",
    "\n",
    "#b\n",
    "\n",
    "\n",
    "def recursionReversePattern(num1,count1=1,memo={}):\n",
    "    if count1==num1+1:\n",
    "        return\n",
    "    else:\n",
    "        if count1 in memo:\n",
    "            val = memo[count1]\n",
    "        else:\n",
    "            print(' '*(num1-count1),end='')\n",
    "            for y in range(1,count1+1):\n",
    "                print(y,end='')\n",
    "            print()\n",
    "            val = recursionReversePattern(num1,count1+1,memo)\n",
    "            memo[count1] = val\n",
    "    return val\n",
    "\n",
    "num1=int(input('Input:'))\n",
    "recursionReversePattern(num1)"
   ]
  },
  {
   "cell_type": "markdown",
   "metadata": {},
   "source": [
    "## Task 5 "
   ]
  },
  {
   "cell_type": "code",
   "execution_count": 24,
   "metadata": {},
   "outputs": [
    {
     "ename": "TypeError",
     "evalue": "print() missing 1 required positional argument: 'arr'",
     "output_type": "error",
     "traceback": [
      "\u001b[1;31m---------------------------------------------------------------------------\u001b[0m",
      "\u001b[1;31mTypeError\u001b[0m                                 Traceback (most recent call last)",
      "\u001b[1;32m<ipython-input-24-3ea0f35acb1f>\u001b[0m in \u001b[0;36m<module>\u001b[1;34m\u001b[0m\n\u001b[0;32m     20\u001b[0m \u001b[0marr\u001b[0m \u001b[1;33m=\u001b[0m \u001b[1;33m[\u001b[0m\u001b[1;36m25000\u001b[0m\u001b[1;33m,\u001b[0m \u001b[1;36m100000\u001b[0m\u001b[1;33m,\u001b[0m \u001b[1;36m250000\u001b[0m\u001b[1;33m,\u001b[0m \u001b[1;36m350000\u001b[0m\u001b[1;33m]\u001b[0m\u001b[1;33m\u001b[0m\u001b[1;33m\u001b[0m\u001b[0m\n\u001b[0;32m     21\u001b[0m \u001b[0mr\u001b[0m \u001b[1;33m=\u001b[0m \u001b[0mFinalR\u001b[0m\u001b[1;33m(\u001b[0m\u001b[1;33m)\u001b[0m\u001b[1;33m\u001b[0m\u001b[1;33m\u001b[0m\u001b[0m\n\u001b[1;32m---> 22\u001b[1;33m \u001b[0mr\u001b[0m\u001b[1;33m.\u001b[0m\u001b[0mprint\u001b[0m\u001b[1;33m(\u001b[0m\u001b[0marr\u001b[0m\u001b[1;33m,\u001b[0m \u001b[1;36m0\u001b[0m\u001b[1;33m)\u001b[0m\u001b[1;33m\u001b[0m\u001b[1;33m\u001b[0m\u001b[0m\n\u001b[0m",
      "\u001b[1;32m<ipython-input-24-3ea0f35acb1f>\u001b[0m in \u001b[0;36mprint\u001b[1;34m(self, arr, index)\u001b[0m\n\u001b[0;32m      4\u001b[0m         \u001b[1;32mif\u001b[0m \u001b[0mindex\u001b[0m \u001b[1;33m<\u001b[0m \u001b[0mlen\u001b[0m\u001b[1;33m(\u001b[0m\u001b[0marr\u001b[0m\u001b[1;33m)\u001b[0m\u001b[1;33m:\u001b[0m\u001b[1;33m\u001b[0m\u001b[1;33m\u001b[0m\u001b[0m\n\u001b[0;32m      5\u001b[0m             \u001b[0mprofit\u001b[0m \u001b[1;33m=\u001b[0m \u001b[0mself\u001b[0m\u001b[1;33m.\u001b[0m\u001b[0mcalProfit\u001b[0m\u001b[1;33m(\u001b[0m\u001b[0marr\u001b[0m\u001b[1;33m[\u001b[0m\u001b[0mindex\u001b[0m\u001b[1;33m]\u001b[0m\u001b[1;33m)\u001b[0m\u001b[1;33m\u001b[0m\u001b[1;33m\u001b[0m\u001b[0m\n\u001b[1;32m----> 6\u001b[1;33m             \u001b[0mprint\u001b[0m\u001b[1;33m(\u001b[0m\u001b[1;34m\"{0}. Investment:{1}; Profit:{2}\"\u001b[0m\u001b[1;33m.\u001b[0m\u001b[0mformat\u001b[0m\u001b[1;33m(\u001b[0m\u001b[0mindex\u001b[0m\u001b[1;33m+\u001b[0m\u001b[1;36m1\u001b[0m\u001b[1;33m,\u001b[0m \u001b[0marr\u001b[0m\u001b[1;33m[\u001b[0m\u001b[0mindex\u001b[0m\u001b[1;33m]\u001b[0m\u001b[1;33m,\u001b[0m \u001b[0mprofit\u001b[0m\u001b[1;33m)\u001b[0m\u001b[1;33m)\u001b[0m\u001b[1;33m\u001b[0m\u001b[1;33m\u001b[0m\u001b[0m\n\u001b[0m\u001b[0;32m      7\u001b[0m             \u001b[0mself\u001b[0m\u001b[1;33m.\u001b[0m\u001b[0mprint\u001b[0m\u001b[1;33m(\u001b[0m\u001b[0marr\u001b[0m\u001b[1;33m,\u001b[0m \u001b[0mindex\u001b[0m \u001b[1;33m+\u001b[0m \u001b[1;36m1\u001b[0m\u001b[1;33m)\u001b[0m\u001b[1;33m\u001b[0m\u001b[1;33m\u001b[0m\u001b[0m\n\u001b[0;32m      8\u001b[0m \u001b[1;33m\u001b[0m\u001b[0m\n",
      "\u001b[1;31mTypeError\u001b[0m: print() missing 1 required positional argument: 'arr'"
     ]
    }
   ],
   "source": [
    "class FinalQ: \n",
    "    def print(self, array, idx): \n",
    "        if idx < len(array):\n",
    "            profit = self.calcProfit(array[idx])\n",
    "            print(\"{0}. Investment:{1}; Profit:{2}\".format(idx+1, array[idx], profit))\n",
    "            self.print(array, idx + 1)\n",
    "   \n",
    "    def calcProfit(self, investment):\n",
    "        investment -= 25000\n",
    "        profit = 0\n",
    "        if investment > 0:\n",
    "            profit += min(investment, 75000) * (4.5/100)\n",
    "            investment -= 75000\n",
    "            if investment > 0:\n",
    "                profit += investment * (8/100)\n",
    "        return profit\n",
    "\n",
    "# Tester\n",
    "array = [25000,100000,250000,350000] \n",
    "f = FinalQ() \n",
    "f.print(array, 0)\n"
   ]
  },
  {
   "cell_type": "code",
   "execution_count": null,
   "metadata": {},
   "outputs": [],
   "source": []
  }
 ],
 "metadata": {
  "kernelspec": {
   "display_name": "Python 3",
   "language": "python",
   "name": "python3"
  },
  "language_info": {
   "codemirror_mode": {
    "name": "ipython",
    "version": 3
   },
   "file_extension": ".py",
   "mimetype": "text/x-python",
   "name": "python",
   "nbconvert_exporter": "python",
   "pygments_lexer": "ipython3",
   "version": "3.8.3"
  }
 },
 "nbformat": 4,
 "nbformat_minor": 4
}
