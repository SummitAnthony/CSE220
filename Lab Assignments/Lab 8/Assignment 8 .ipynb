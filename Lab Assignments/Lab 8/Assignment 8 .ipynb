{
 "cells": [
  {
   "cell_type": "markdown",
   "metadata": {},
   "source": [
    "#### Selection Sort Iteratively "
   ]
  },
  {
   "cell_type": "code",
   "execution_count": 31,
   "metadata": {},
   "outputs": [
    {
     "data": {
      "text/plain": [
       "[1, 2, 3, 5, 9, 10]"
      ]
     },
     "execution_count": 31,
     "metadata": {},
     "output_type": "execute_result"
    }
   ],
   "source": [
    "def selection_sort(arr):\n",
    "    for i in range(len(arr)-1):\n",
    "        minIndex = i\n",
    "        for j in range(i+1, len(arr)):\n",
    "            if arr[j] < arr[minIndex]:\n",
    "                minIndex = j\n",
    "        if i != minIndex:\n",
    "            arr[i], arr[minIndex] = arr[minIndex], arr[i]\n",
    "        \n",
    "    return arr\n",
    "\n",
    "\n",
    "\n",
    "arr = [5,10,9,2,1,3]\n",
    "selection_sort(arr)"
   ]
  },
  {
   "cell_type": "markdown",
   "metadata": {},
   "source": [
    "#### Selection Sort Recursively  "
   ]
  },
  {
   "cell_type": "code",
   "execution_count": 2,
   "metadata": {},
   "outputs": [
    {
     "name": "stdout",
     "output_type": "stream",
     "text": [
      "[1, 2, 3, 5, 9, 10]\n"
     ]
    }
   ],
   "source": [
    "def selection(arr, i=0, j=1, flag = True):\n",
    "    size = len(arr)\n",
    "    if i < size-1:\n",
    "        if flag:\n",
    "            j = i+1\n",
    "        \n",
    "        if j < size:\n",
    "            if arr[i] > arr[j]:\n",
    "                arr[i], arr[j] = arr[j], arr[i]\n",
    "            selection(arr, i,j+1, False)\n",
    "        else:\n",
    "            selection(arr, i+1, 0, True)\n",
    "            \n",
    "\n",
    "arr = [5,10,9,2,1,3]\n",
    "selection(arr)\n",
    "print(arr)"
   ]
  },
  {
   "cell_type": "markdown",
   "metadata": {},
   "source": [
    "#### Singly Linked List using Bubble sort and Selection Sort"
   ]
  },
  {
   "cell_type": "code",
   "execution_count": 3,
   "metadata": {},
   "outputs": [
    {
     "name": "stdout",
     "output_type": "stream",
     "text": [
      "50,20,40,10,30,70,60\n",
      "10,20,30,40,50,60,70\n"
     ]
    }
   ],
   "source": [
    "class Node:\n",
    "    \n",
    "    def __init__(self, val):\n",
    "        self.val = val\n",
    "        self.next = None\n",
    "        \n",
    "\n",
    "        \n",
    "class Singlelinkedlist:\n",
    "    \n",
    "    def __init__(self):\n",
    "        self.head = None\n",
    "        \n",
    "        \n",
    "    def push(self, val):\n",
    "        new_node = Node(val)\n",
    "        if self.head is None:\n",
    "            self.head = new_node\n",
    "        else:\n",
    "            temp = self.head\n",
    "            while temp.next != None:\n",
    "                temp = temp.next\n",
    "            temp.next = new_node\n",
    "            \n",
    "            \n",
    "    def printFull(self):\n",
    "        temp = self.head\n",
    "        \n",
    "        while temp.next != None:\n",
    "            print(temp.val, end=\",\")\n",
    "            temp = temp.next\n",
    "        print(temp.val)\n",
    "        \n",
    "        \n",
    "    def bubble_sort_ex_val(self):\n",
    "        end = None\n",
    "        while self.head.next != end:\n",
    "            temp = self.head\n",
    "            while temp.next != end:\n",
    "                temp1 = temp.next\n",
    "                if temp.val > temp1.val:\n",
    "                    temp.val, temp1.val = temp1.val, temp.val\n",
    "                \n",
    "                temp = temp.next\n",
    "                \n",
    "            end = temp\n",
    "            \n",
    "    def selection_sort(self):\n",
    "        \n",
    "        temp = self.head\n",
    "        while temp:\n",
    "            minn = temp\n",
    "            r = temp.next\n",
    "            \n",
    "            while r:\n",
    "                if minn.val > r.val:\n",
    "                    minn = r\n",
    "                r = r.next\n",
    "                \n",
    "            #swap \n",
    "            x = temp.val\n",
    "            temp.val = minn.val\n",
    "            minn.val = x\n",
    "            temp = temp.next\n",
    "            \n",
    "            \n",
    "            \n",
    "            \n",
    "        \n",
    "s1 = Singlelinkedlist()\n",
    "s1.push(50)\n",
    "s1.push(20)\n",
    "s1.push(40)\n",
    "s1.push(10)\n",
    "s1.push(30)\n",
    "s1.push(70)\n",
    "s1.push(60)\n",
    "s1.printFull()\n",
    "# s1.bubble_sort_ex_val()\n",
    "# s1.printFull()\n",
    "s1.selection_sort()\n",
    "s1.printFull()\n"
   ]
  },
  {
   "cell_type": "markdown",
   "metadata": {},
   "source": [
    "#### Doubly Linked List Insertion Sort"
   ]
  },
  {
   "cell_type": "code",
   "execution_count": 33,
   "metadata": {},
   "outputs": [
    {
     "name": "stdout",
     "output_type": "stream",
     "text": [
      "[1, 2, 3, 5, 9, 10]\n"
     ]
    }
   ],
   "source": [
    "class Node:\n",
    "    def __init__(self, value, next, prev):\n",
    "        self.value = value\n",
    "        self.next = next\n",
    "        self.prev = prev\n",
    "\n",
    "\n",
    "class Doublylinkedlist:\n",
    "    def __init__(self, array):\n",
    "        self.head = Node(array[0], None, None)\n",
    "        tail = self.head\n",
    "        for x in range(1, len(array)):\n",
    "            new_node = Node(array[x], None, tail)\n",
    "            tail.next = new_node\n",
    "            tail = new_node\n",
    "\n",
    "    def showList(self):\n",
    "        if self.head.next is None:\n",
    "            print(\"Empty list\")\n",
    "        else:\n",
    "            head = self.head\n",
    "            while self.head is not None:\n",
    "                if head.next is None:\n",
    "                    print(head.value)\n",
    "                    break\n",
    "                else:\n",
    "                    print(head.value, end=\" \")\n",
    "                    head = head.next\n",
    "\n",
    "    \n",
    "    \n",
    "    \n",
    "    def insertion_sort(self):\n",
    "        head = self.head\n",
    "        if head == None:\n",
    "            return\n",
    "        else:\n",
    "            while head is not None:\n",
    "                tail = head.next\n",
    "                while tail and tail.prev != None and tail.value < tail.prev.value:\n",
    "                    tail.value, tail.prev.value = tail.prev.value, tail.value\n",
    "                    tail = tail.prev\n",
    "                head = head.next\n",
    "\n",
    "\n",
    "array = [7, 6, 9, 3, 5, 99, 1]\n",
    "doublylinkedlist = Doublylinkedlist(array)\n",
    "doublylinkedlist.insertion_sort()\n",
    "doublylinkedlist.showList()"
   ]
  },
  {
   "cell_type": "markdown",
   "metadata": {},
   "source": [
    "#### Binary Search Recursive "
   ]
  },
  {
   "cell_type": "code",
   "execution_count": 11,
   "metadata": {},
   "outputs": [
    {
     "name": "stdout",
     "output_type": "stream",
     "text": [
      "5\n"
     ]
    }
   ],
   "source": [
    "def rec_binary_search(array, left, right, value):\n",
    "    \n",
    "    if left > right:\n",
    "        return -1\n",
    "    \n",
    "    else:\n",
    "        mid_value = ((left+right)//2)\n",
    "        if array[mid_value] < value:\n",
    "            return rec_binary_search(array, mid_value+1,right,value)\n",
    "        elif array[mid_value] > value:\n",
    "            return rec_binary_search(array, left, mid_value-1,value)\n",
    "        else:\n",
    "            return mid_value\n",
    "    \n",
    "    \n",
    "\n",
    "\n",
    "array = [1, 2, 3, 4, 5, 6, 7]\n",
    "left = 0\n",
    "right = len(array)\n",
    "value = 6\n",
    "print(rec_binary_search(array, left, right, value))"
   ]
  },
  {
   "cell_type": "markdown",
   "metadata": {},
   "source": [
    "#### Implement a recursive algorithm to find the n-th Fibonacci number using memoization"
   ]
  },
  {
   "cell_type": "code",
   "execution_count": 10,
   "metadata": {},
   "outputs": [
    {
     "data": {
      "text/plain": [
       "354224848179261915075"
      ]
     },
     "execution_count": 10,
     "metadata": {},
     "output_type": "execute_result"
    }
   ],
   "source": [
    "def fib(n, memo = {}):\n",
    "    if n in memo:\n",
    "        return memo[n]\n",
    "    if n <= 1:\n",
    "        return n\n",
    "    memo[n] = fib(n-2) + fib(n-1)\n",
    "    return memo[n]\n",
    "\n",
    "fib(100)"
   ]
  },
  {
   "cell_type": "code",
   "execution_count": null,
   "metadata": {},
   "outputs": [],
   "source": []
  },
  {
   "cell_type": "code",
   "execution_count": null,
   "metadata": {},
   "outputs": [],
   "source": []
  },
  {
   "cell_type": "code",
   "execution_count": null,
   "metadata": {},
   "outputs": [],
   "source": []
  },
  {
   "cell_type": "code",
   "execution_count": null,
   "metadata": {},
   "outputs": [],
   "source": []
  },
  {
   "cell_type": "code",
   "execution_count": null,
   "metadata": {},
   "outputs": [],
   "source": []
  }
 ],
 "metadata": {
  "kernelspec": {
   "display_name": "Python 3",
   "language": "python",
   "name": "python3"
  },
  "language_info": {
   "codemirror_mode": {
    "name": "ipython",
    "version": 3
   },
   "file_extension": ".py",
   "mimetype": "text/x-python",
   "name": "python",
   "nbconvert_exporter": "python",
   "pygments_lexer": "ipython3",
   "version": "3.8.3"
  }
 },
 "nbformat": 4,
 "nbformat_minor": 4
}
