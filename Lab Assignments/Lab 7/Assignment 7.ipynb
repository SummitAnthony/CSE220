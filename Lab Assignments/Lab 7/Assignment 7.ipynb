{
 "cells": [
  {
   "cell_type": "code",
   "execution_count": 1,
   "metadata": {},
   "outputs": [
    {
     "name": "stdout",
     "output_type": "stream",
     "text": [
      "[2, 0, 0, 0, 0, 0, 1, 1, 1, 1, 1, 1, 0, 0, 0, 1, 1, 1, 1]\n",
      "[-5, -5, 1, 2, 3, 4, 5, 6, 10, 11, 12, 13]\n"
     ]
    },
    {
     "data": {
      "text/plain": [
       "False"
      ]
     },
     "execution_count": 1,
     "metadata": {},
     "output_type": "execute_result"
    }
   ],
   "source": [
    "#Question-1\n",
    "\n",
    "\n",
    "class KeyIndex:\n",
    "    \"\"\"Class that takes an array and sorts it using key indexing\n",
    "       and a list of frequency counts\"\"\"\n",
    "\n",
    "    def __init__(self, arr):\n",
    "        self.arr = arr\n",
    "        self.negative_value = 0\n",
    "        minimum = arr[0]\n",
    "        maximum = arr[0]\n",
    "\n",
    "        # Find the max and min values\n",
    "        for i in arr[1:]:\n",
    "            if i < minimum:\n",
    "                minimum = i\n",
    "            if i > maximum:\n",
    "                maximum = i\n",
    "                \n",
    "        # If there is a negative min value, adjust accordingly\n",
    "        if minimum < 0:\n",
    "            self.negative_value = minimum * (-1)\n",
    "            \n",
    "        # Initialize an array with zeroes between min and max\n",
    "        self.list = [0] * (self.negative_value+maximum+1)\n",
    "\n",
    "        # Count the frequency of each value\n",
    "        for i in self.arr:\n",
    "            self.list[i+self.negative_value] += 1\n",
    "            \n",
    "    def sort(self):\n",
    "        \"\"\"Sort the array\"\"\"\n",
    "        temp = []\n",
    "        i = 0\n",
    "\n",
    "        # Iterate through list, add elements to temp according to frequency\n",
    "        while i < len(self.list):\n",
    "            j = 1\n",
    "            while j <= self.list[i]:\n",
    "                temp.append(i-self.negative_value)\n",
    "                j += 1\n",
    "            i += 1\n",
    "            \n",
    "        print(temp)\n",
    "        return\n",
    "\n",
    "    def search(self, value):\n",
    "        \"\"\"Search for a value in the array\"\"\"\n",
    "        if self.list[value+self.negative_value] >= 1:\n",
    "            return True\n",
    "        else:\n",
    "            return False\n",
    "    \n",
    "    def printList(self):\n",
    "        \"\"\"Print the frequency list\"\"\"\n",
    "        print(self.list)\n",
    "\n",
    "arr = [-5,-5,1,2,5,4,6,3,10,13,11,12]\n",
    "c1 = KeyIndex(arr)\n",
    "c1.printList()\n",
    "c1.sort()\n",
    "c1.search(-4)"
   ]
  },
  {
   "cell_type": "code",
   "execution_count": 6,
   "metadata": {},
   "outputs": [
    {
     "name": "stdout",
     "output_type": "stream",
     "text": [
      "['ST1E89B8A32', 'MO56YA44NA', 'ST1E89B8A32', 'MINO555NS', 'ST1E89B8A32', 'ST1E89B8A32', 'RIFA321TASFIYA', 'RIFA321TASFIYA', '864PIIPUU']\n"
     ]
    }
   ],
   "source": [
    "# Question 2 \n",
    "\n",
    "class HashTable:\n",
    "    \n",
    "    def __init__(self, arr,size=9):\n",
    "        \"\"\"Initialize the hash table with a size and array of values\"\"\"\n",
    "        self.list = [0] * size\n",
    "        for value in arr:\n",
    "            self.insert_table(value)\n",
    "            \n",
    "    def hash_function(self, value):\n",
    "        \"\"\"Hash function to generate index of the table\"\"\"\n",
    "        vowels = [\"A\", \"E\", \"I\", \"O\", \"U\"]\n",
    "        consonants = 0\n",
    "        integers = 0\n",
    "        \n",
    "        # Loop through all characters in the value\n",
    "        for i in value:\n",
    "            # If the character is uppercase\n",
    "            if 65 <= ord(i) <= 90:\n",
    "                # Check if the character is a vowel\n",
    "                if i not in vowels:\n",
    "                    # Increment the number of consonants\n",
    "                    consonants += 1\n",
    "            # If the character is a number\n",
    "            elif i.isdigit():\n",
    "                # Increment the number of integers\n",
    "                integers += int(i)\n",
    "                \n",
    "        # Generate the index using the number of consonants and integers\n",
    "        index = (consonants * 24 + integers)%9\n",
    "        return index\n",
    "                \n",
    "\n",
    "    \n",
    "    def insert_table(self, value):\n",
    "        \"\"\"Insert the values into the hash table\"\"\"\n",
    "        index = self.hash_function(value)\n",
    "        # While the list at the given index is not 0\n",
    "        j = 1\n",
    "        while self.list[index] != 0:\n",
    "            # Increment the index by 1, looping around to 0 if the index is greater than 8\n",
    "            index = (index+(j**2)) % 9\n",
    "            j += 1\n",
    "        # Insert the value into the list at the given index\n",
    "        self.list[index] = value\n",
    "        \n",
    "        \n",
    "    def printTable(self):\n",
    "        \"\"\"Print the contents of the table\"\"\"\n",
    "        print(self.list)\n",
    "\n",
    "        \n",
    "arr = [\"ST1E89B8A32\", \"RIFA321TASFIYA\", \"MO56YA44NA\", \"ST1E89B8A32\", \"MINO555NS\", \"RIFA321TASFIYA\", \"ST1E89B8A32\",\n",
    "       \"864PIIPUU\", \"ST1E89B8A32\"]\n",
    "c2 = HashTable(arr)\n",
    "c2.printTable()"
   ]
  },
  {
   "cell_type": "code",
   "execution_count": null,
   "metadata": {},
   "outputs": [],
   "source": []
  },
  {
   "cell_type": "code",
   "execution_count": null,
   "metadata": {},
   "outputs": [],
   "source": []
  }
 ],
 "metadata": {
  "kernelspec": {
   "display_name": "Python 3",
   "language": "python",
   "name": "python3"
  },
  "language_info": {
   "codemirror_mode": {
    "name": "ipython",
    "version": 3
   },
   "file_extension": ".py",
   "mimetype": "text/x-python",
   "name": "python",
   "nbconvert_exporter": "python",
   "pygments_lexer": "ipython3",
   "version": "3.8.3"
  }
 },
 "nbformat": 4,
 "nbformat_minor": 4
}
