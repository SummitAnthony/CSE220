{
 "cells": [
  {
   "cell_type": "markdown",
   "metadata": {},
   "source": [
    "## Recursion Practice Sheet "
   ]
  },
  {
   "cell_type": "code",
   "execution_count": 3,
   "metadata": {},
   "outputs": [
    {
     "name": "stdout",
     "output_type": "stream",
     "text": [
      "Enter a number: 126\n"
     ]
    },
    {
     "data": {
      "text/plain": [
       "9"
      ]
     },
     "execution_count": 3,
     "metadata": {},
     "output_type": "execute_result"
    }
   ],
   "source": [
    "#Question-1 \n",
    "\n",
    "def sumDigits(n):\n",
    "    if n == 0:\n",
    "        return 0\n",
    "    else:\n",
    "        return (n%10) + sumDigits(n//10)\n",
    "\n",
    "n = int(input(\"Enter a number: \"))\n",
    "sumDigits(n)"
   ]
  },
  {
   "cell_type": "code",
   "execution_count": 2,
   "metadata": {},
   "outputs": [
    {
     "name": "stdout",
     "output_type": "stream",
     "text": [
      "1\n"
     ]
    },
    {
     "data": {
      "text/plain": [
       "2"
      ]
     },
     "execution_count": 2,
     "metadata": {},
     "output_type": "execute_result"
    }
   ],
   "source": [
    "#Question-2\n",
    "\n",
    "def bunnyEars(bunnies):\n",
    "    if bunnies == 0:\n",
    "        return 0\n",
    "\n",
    "    if bunnies % 2 == 1:\n",
    "        return 2 + bunnyEars(bunnies-1)\n",
    "                    \n",
    "    return 3 + bunnyEars(bunnies-1)\n",
    "\n",
    "n = int(input())\n",
    "bunnyEars(n)"
   ]
  },
  {
   "cell_type": "code",
   "execution_count": 5,
   "metadata": {},
   "outputs": [
    {
     "name": "stdout",
     "output_type": "stream",
     "text": [
      "Enter a number: 717\n"
     ]
    },
    {
     "data": {
      "text/plain": [
       "2"
      ]
     },
     "execution_count": 5,
     "metadata": {},
     "output_type": "execute_result"
    }
   ],
   "source": [
    "#Question-3\n",
    "\n",
    "def count7(n):\n",
    "    if n == 0:\n",
    "        return 0\n",
    "    else:\n",
    "        if n%10 == 7:\n",
    "            return 1 + count7(n//10)\n",
    "        else:\n",
    "            return 0 + count7(n//10)\n",
    "        \n",
    "    return\n",
    " \n",
    "n = int(input(\"Enter a number: \"))\n",
    "count7(n)\n"
   ]
  },
  {
   "cell_type": "code",
   "execution_count": 8,
   "metadata": {},
   "outputs": [
    {
     "name": "stdout",
     "output_type": "stream",
     "text": [
      "Enter a string: xxhixx\n"
     ]
    },
    {
     "data": {
      "text/plain": [
       "4"
      ]
     },
     "execution_count": 8,
     "metadata": {},
     "output_type": "execute_result"
    }
   ],
   "source": [
    "#Question-4\n",
    "\n",
    "def countx(string, index=0):\n",
    "    if len(string) == index:\n",
    "        return 0\n",
    "    else:\n",
    "        if string[index] == 'x':\n",
    "            return 1 + countx(string, index+1)\n",
    "        else:\n",
    "            return 0 + countx(string, index+1)\n",
    "\n",
    "string = input(\"Enter a string: \")\n",
    "countx(string)"
   ]
  },
  {
   "cell_type": "code",
   "execution_count": 15,
   "metadata": {},
   "outputs": [
    {
     "name": "stdout",
     "output_type": "stream",
     "text": [
      "hellopihow\n"
     ]
    },
    {
     "data": {
      "text/plain": [
       "'hello3.14how'"
      ]
     },
     "execution_count": 15,
     "metadata": {},
     "output_type": "execute_result"
    }
   ],
   "source": [
    "#Question-5\n",
    "\n",
    "def changePi(string):\n",
    "    if len(string) == 0:\n",
    "        return \"\"\n",
    "    elif len(string) == 1:\n",
    "        if string[0] == 'p' and string[1] == 'i':\n",
    "            return \"3.14\"\n",
    "        else:\n",
    "            return string[0]\n",
    "    elif string[0] == 'p' and string[1] == 'i':\n",
    "        return \"3.14\" + changePi(string[2:])\n",
    "    else:\n",
    "        return string[0] + changePi(string[1:])\n",
    "    \n",
    "\n",
    "\n",
    "string = input()\n",
    "changePi(string)"
   ]
  },
  {
   "cell_type": "code",
   "execution_count": 19,
   "metadata": {},
   "outputs": [
    {
     "data": {
      "text/plain": [
       "1"
      ]
     },
     "execution_count": 19,
     "metadata": {},
     "output_type": "execute_result"
    }
   ],
   "source": [
    "#Question-6\n",
    "\n",
    "def array11(values, index=0):\n",
    "    if len(values) == index:\n",
    "        return 0\n",
    "    else:\n",
    "        if values[index] == 11:\n",
    "            return 1 + array11(values, index+1)\n",
    "        else:\n",
    "            return 0 + array11(values, index+1)\n",
    "        \n",
    "        \n",
    "values = [1, 2, 11]\n",
    "array11(values)"
   ]
  },
  {
   "cell_type": "code",
   "execution_count": 22,
   "metadata": {},
   "outputs": [
    {
     "name": "stdout",
     "output_type": "stream",
     "text": [
      "hello\n"
     ]
    },
    {
     "data": {
      "text/plain": [
       "'hel*lo'"
      ]
     },
     "execution_count": 22,
     "metadata": {},
     "output_type": "execute_result"
    }
   ],
   "source": [
    "#Question-7\n",
    "\n",
    "def pairStar(string):\n",
    "    if len(string) == 0:\n",
    "        return \"\"\n",
    "    elif len(string) == 1:\n",
    "        return string[0]\n",
    "    else:\n",
    "        if string[0] == string[1]:\n",
    "            return string[0] + \"*\" + pairStar(string[1:])\n",
    "        else:\n",
    "            return string[0] + pairStar(string[1:])\n",
    "\n",
    "\n",
    "\n",
    "string = input()\n",
    "pairStar(string)\n"
   ]
  },
  {
   "cell_type": "code",
   "execution_count": 28,
   "metadata": {},
   "outputs": [
    {
     "name": "stdout",
     "output_type": "stream",
     "text": [
      "helloaba\n"
     ]
    },
    {
     "data": {
      "text/plain": [
       "1"
      ]
     },
     "execution_count": 28,
     "metadata": {},
     "output_type": "execute_result"
    }
   ],
   "source": [
    "#Question-8\n",
    "\n",
    "def countAbc(string):\n",
    "    if len(string) == 0:\n",
    "        return 0\n",
    "    else:\n",
    "        if string[:3] == \"abc\" or string[:3] == \"aba\":\n",
    "            return 1 + countAbc(string[3:])\n",
    "        else:\n",
    "            return 0 + countAbc(string[1:])\n",
    "      \n",
    "    \n",
    "    \n",
    "string = input(\"\")\n",
    "countAbc(string)"
   ]
  },
  {
   "cell_type": "code",
   "execution_count": 41,
   "metadata": {},
   "outputs": [
    {
     "name": "stdout",
     "output_type": "stream",
     "text": [
      "ahixhi\n"
     ]
    },
    {
     "data": {
      "text/plain": [
       "1"
      ]
     },
     "execution_count": 41,
     "metadata": {},
     "output_type": "execute_result"
    }
   ],
   "source": [
    "#Question-9\n",
    "\n",
    "def countHi2(string):\n",
    "    if len(string) < 2:\n",
    "        return 0\n",
    "    else:\n",
    "        if string[0] == \"x\" and string[1] == \"h\" and string[2] == \"i\":\n",
    "            return 0 + countHi2(string[3:])\n",
    "        elif string[0] == \"h\" and string[1] == \"i\":\n",
    "            return 1 + countHi2(string[2:])\n",
    "        else:\n",
    "            return countHi2(string[1:])\n",
    "\n",
    "string = input()\n",
    "countHi2(string)"
   ]
  },
  {
   "cell_type": "code",
   "execution_count": 48,
   "metadata": {},
   "outputs": [
    {
     "data": {
      "text/plain": [
       "1"
      ]
     },
     "execution_count": 48,
     "metadata": {},
     "output_type": "execute_result"
    }
   ],
   "source": [
    "#Question-10\n",
    "def strCount(string, key):\n",
    "    if len(string) < len(key):\n",
    "        return 0\n",
    "    else:\n",
    "        if string[:len(key)] == key:\n",
    "            return 1 + strCount(string[len(key):], key)\n",
    "        else:\n",
    "            return 0+ strCount(string[1:],key)\n",
    "\n",
    "\n",
    "strCount(\"catcowcat\", \"cow\")"
   ]
  },
  {
   "cell_type": "code",
   "execution_count": 52,
   "metadata": {},
   "outputs": [
    {
     "data": {
      "text/plain": [
       "4"
      ]
     },
     "execution_count": 52,
     "metadata": {},
     "output_type": "execute_result"
    }
   ],
   "source": [
    "#Question-11\n",
    "\n",
    "def bunnyEars2(n):\n",
    "    if n == 0:\n",
    "        return 0\n",
    "    else:\n",
    "        return 2 + bunnyEars2(n-1)\n",
    "    \n",
    "bunnyEars2(2)"
   ]
  },
  {
   "cell_type": "code",
   "execution_count": 64,
   "metadata": {},
   "outputs": [
    {
     "data": {
      "text/plain": [
       "3"
      ]
     },
     "execution_count": 64,
     "metadata": {},
     "output_type": "execute_result"
    }
   ],
   "source": [
    "#Question-12\n",
    "\n",
    "def triangle(rows):\n",
    "    if rows == 0:\n",
    "        return 0\n",
    "    else:\n",
    "        return rows + triangle(rows-1)\n",
    "    \n",
    "    \n",
    "    \n",
    "triangle(2)"
   ]
  },
  {
   "cell_type": "code",
   "execution_count": 65,
   "metadata": {},
   "outputs": [
    {
     "name": "stdout",
     "output_type": "stream",
     "text": [
      "xaxb\n"
     ]
    },
    {
     "data": {
      "text/plain": [
       "'ab'"
      ]
     },
     "execution_count": 65,
     "metadata": {},
     "output_type": "execute_result"
    }
   ],
   "source": [
    "#Question-13\n",
    "\n",
    "def noX(string):\n",
    "    if string == \"\":\n",
    "        return \"\"\n",
    "    else:\n",
    "        if string[0] == \"x\":\n",
    "            return noX(string[1:])\n",
    "        else:\n",
    "            return string[0] + noX(string[1:])\n",
    "\n",
    "\n",
    "string = input()\n",
    "noX(string)"
   ]
  },
  {
   "cell_type": "code",
   "execution_count": 72,
   "metadata": {},
   "outputs": [
    {
     "data": {
      "text/plain": [
       "True"
      ]
     },
     "execution_count": 72,
     "metadata": {},
     "output_type": "execute_result"
    }
   ],
   "source": [
    "#Question-14\n",
    "\n",
    "def array220(array, index=0):\n",
    "    if len(array)== index:\n",
    "        return False\n",
    "    else:\n",
    "        if array[index] * 10 == array[index+1] :\n",
    "            return True\n",
    "        else:\n",
    "            return array220(array, index+1)\n",
    "        \n",
    "array = [1, 2, 20]\n",
    "array220(array)"
   ]
  },
  {
   "cell_type": "code",
   "execution_count": 74,
   "metadata": {},
   "outputs": [
    {
     "name": "stdout",
     "output_type": "stream",
     "text": [
      "xxre\n"
     ]
    },
    {
     "data": {
      "text/plain": [
       "'rexx'"
      ]
     },
     "execution_count": 74,
     "metadata": {},
     "output_type": "execute_result"
    }
   ],
   "source": [
    "#Question-15\n",
    "def endX(string): \n",
    "    if string == '': \n",
    "        return ''\n",
    "    elif string[0] == 'x': \n",
    "        return endX(string[1:]) + 'x'\n",
    "    else:\n",
    "        return string[0] + endX(string[1:])\n",
    "    \n",
    "string = input()\n",
    "endX(string)"
   ]
  },
  {
   "cell_type": "code",
   "execution_count": 87,
   "metadata": {},
   "outputs": [
    {
     "name": "stdout",
     "output_type": "stream",
     "text": [
      "11x11\n"
     ]
    },
    {
     "data": {
      "text/plain": [
       "2"
      ]
     },
     "execution_count": 87,
     "metadata": {},
     "output_type": "execute_result"
    }
   ],
   "source": [
    "#Question-16\n",
    "\n",
    "def count11(string):\n",
    "    if len(string) <= 1:\n",
    "        return 0\n",
    "    else:\n",
    "        if string[0] == '1' and string[1] == '1':\n",
    "            return 1 + count11(string[2:])\n",
    "        else:\n",
    "            return count11(string[1:])\n",
    "\n",
    "string = input()\n",
    "count11(string)"
   ]
  },
  {
   "cell_type": "code",
   "execution_count": 95,
   "metadata": {},
   "outputs": [
    {
     "name": "stdout",
     "output_type": "stream",
     "text": [
      "xyz(abc)123\n"
     ]
    },
    {
     "data": {
      "text/plain": [
       "'(abc)'"
      ]
     },
     "execution_count": 95,
     "metadata": {},
     "output_type": "execute_result"
    }
   ],
   "source": [
    "#Question-17\n",
    "\n",
    "def parentBit(string):\n",
    "    if string[0] != \"(\":\n",
    "        return parentBit(string[1:])\n",
    "    if string[-1] != \")\":\n",
    "        return parentBit(string[:-1])\n",
    "    return string\n",
    "\n",
    "\n",
    "string = input()\n",
    "parentBit(string)"
   ]
  },
  {
   "cell_type": "code",
   "execution_count": 96,
   "metadata": {},
   "outputs": [
    {
     "data": {
      "text/plain": [
       "True"
      ]
     },
     "execution_count": 96,
     "metadata": {},
     "output_type": "execute_result"
    }
   ],
   "source": [
    "#Question-18\n",
    "\n",
    "def strCopies(string, sub, n):\n",
    "    if n == 0:\n",
    "        return True\n",
    "    if len(string) < len(sub):\n",
    "        return False\n",
    "    if string[:len(sub)] == sub:\n",
    "        return strCopies(string[1:], sub, n-1)\n",
    "    return strCopies(string[1:], sub, n)\n",
    "\n",
    "\n",
    "\n",
    "strCopies(\"catcowcat\", \"cat\", 2)"
   ]
  },
  {
   "cell_type": "code",
   "execution_count": 98,
   "metadata": {},
   "outputs": [
    {
     "data": {
      "text/plain": [
       "'yyyyyy'"
      ]
     },
     "execution_count": 98,
     "metadata": {},
     "output_type": "execute_result"
    }
   ],
   "source": [
    "#Question-19\n",
    "\n",
    "def changeXY(s):\n",
    "    if len(s) == 0:\n",
    "        return s\n",
    "    elif s[0] == 'x':\n",
    "        return 'y' + changeXY(s[1:])\n",
    "    else:\n",
    "        return s[0] + changeXY(s[1:])\n",
    "    \n",
    "changeXY(\"xyxyxy\")"
   ]
  },
  {
   "cell_type": "code",
   "execution_count": 99,
   "metadata": {},
   "outputs": [
    {
     "data": {
      "text/plain": [
       "True"
      ]
     },
     "execution_count": 99,
     "metadata": {},
     "output_type": "execute_result"
    }
   ],
   "source": [
    "#Question-20\n",
    "\n",
    "\n",
    "def array6(nums, index):\n",
    "    if index == len(nums):\n",
    "        return False\n",
    "    if nums[index] == 6:\n",
    "        return True\n",
    "    return array6(nums, index + 1)\n",
    "\n",
    "array6([1, 6, 4], 0)"
   ]
  },
  {
   "cell_type": "code",
   "execution_count": 104,
   "metadata": {},
   "outputs": [
    {
     "name": "stdout",
     "output_type": "stream",
     "text": [
      "hello\n"
     ]
    },
    {
     "data": {
      "text/plain": [
       "'h*e*l*l*o'"
      ]
     },
     "execution_count": 104,
     "metadata": {},
     "output_type": "execute_result"
    }
   ],
   "source": [
    "#Question-21\n",
    "\n",
    "def allStar(string): \n",
    "    if len(string) == 1: \n",
    "        return string \n",
    "    else: \n",
    "        return string[0] + \"*\" + allStar(string[1:]) \n",
    "\n",
    "    \n",
    "string = input()\n",
    "allStar(string)"
   ]
  },
  {
   "cell_type": "code",
   "execution_count": 1,
   "metadata": {},
   "outputs": [
    {
     "name": "stdout",
     "output_type": "stream",
     "text": [
      "axbx\n"
     ]
    },
    {
     "data": {
      "text/plain": [
       "1"
      ]
     },
     "execution_count": 1,
     "metadata": {},
     "output_type": "execute_result"
    }
   ],
   "source": [
    "#Question-22\n",
    "\n",
    "def countPairs(string): \n",
    "    if len(string) < 3: \n",
    "        return 0\n",
    "    if string[0] == string[2]: \n",
    "        return 1 + countPairs(string[1:]) \n",
    "    else: \n",
    "        return countPairs(string[1:])\n",
    "    \n",
    "    \n",
    "string = input()\n",
    "countPairs(string)"
   ]
  },
  {
   "cell_type": "code",
   "execution_count": 106,
   "metadata": {},
   "outputs": [
    {
     "name": "stdout",
     "output_type": "stream",
     "text": [
      "yazzzyyyy\n"
     ]
    },
    {
     "data": {
      "text/plain": [
       "'yazy'"
      ]
     },
     "execution_count": 106,
     "metadata": {},
     "output_type": "execute_result"
    }
   ],
   "source": [
    "#Question-23\n",
    "\n",
    "def stringClean(s): \n",
    "    if s == \"\": \n",
    "        return s \n",
    "    if len(s) == 1: \n",
    "        return s \n",
    "    if s[0] == s[1]: \n",
    "        return stringClean(s[1:]) \n",
    "    else: \n",
    "        return s[0] + stringClean(s[1:]) \n",
    "    \n",
    "s = input()\n",
    "stringClean(s)"
   ]
  },
  {
   "cell_type": "code",
   "execution_count": 1,
   "metadata": {},
   "outputs": [
    {
     "data": {
      "text/plain": [
       "True"
      ]
     },
     "execution_count": 1,
     "metadata": {},
     "output_type": "execute_result"
    }
   ],
   "source": [
    "#Question-24\n",
    "\n",
    "def nestParen(s): \n",
    "    if len(s) == 0:\n",
    "        return True\n",
    "    if s[0] == \"(\" and s[-1] == \")\":\n",
    "        return nestParen(s[1:-1])\n",
    "    else:\n",
    "        return False\n",
    "    \n",
    "nestParen(\"(())\")"
   ]
  },
  {
   "cell_type": "code",
   "execution_count": 5,
   "metadata": {},
   "outputs": [
    {
     "name": "stdout",
     "output_type": "stream",
     "text": [
      "3\n"
     ]
    }
   ],
   "source": [
    "#Question-25\n",
    "\n",
    "def strDist(str, sub):\n",
    "    if(len(str) < len(sub)):\n",
    "        return 0\n",
    "    \n",
    "    if(str[0:len(sub)] == sub and str[len(str) - len(sub):] == sub):\n",
    "        return len(str)\n",
    "    \n",
    "    if(str[0:len(sub)] != sub):\n",
    "        return strDist(str[1:], sub)\n",
    "  \n",
    "    return strDist(str[0:len(str)-1], sub)\n",
    "\n",
    "print(strDist(\"catcowcat\", \"cow\"))\n"
   ]
  },
  {
   "cell_type": "code",
   "execution_count": 10,
   "metadata": {},
   "outputs": [
    {
     "data": {
      "text/plain": [
       "True"
      ]
     },
     "execution_count": 10,
     "metadata": {},
     "output_type": "execute_result"
    }
   ],
   "source": [
    "#Question-26\n",
    "\n",
    "\n",
    "def groupSum(start, nums, target):\n",
    "  # base case\n",
    "  if start >= len(nums):\n",
    "    return target == 0\n",
    "  \n",
    "  # check if current element is part of the solution\n",
    "  if groupSum(start + 1, nums, target - nums[start]):\n",
    "    return True\n",
    "  \n",
    "  # check if current element is not part of the solution\n",
    "  if groupSum(start + 1, nums, target):\n",
    "    return True\n",
    "  \n",
    "  # current element is not part of the solution\n",
    "  return False\n",
    "\n",
    "\n",
    "\n",
    "groupSum(0, [2, 4, 8], 10)"
   ]
  },
  {
   "cell_type": "code",
   "execution_count": 2,
   "metadata": {},
   "outputs": [
    {
     "name": "stdout",
     "output_type": "stream",
     "text": [
      "True\n",
      "False\n",
      "True\n"
     ]
    }
   ],
   "source": [
    "#Question-27\n",
    "\n",
    "\n",
    "def splitArray(nums):\n",
    "    return splitArrayHelper(0, nums, 0, 0)\n",
    "\n",
    "def splitArrayHelper(start, nums, group1, group2):\n",
    "    if start >= len(nums):\n",
    "        return group1 == group2\n",
    "            \n",
    "    if splitArrayHelper(start+1, nums, group1 + nums[start], group2):\n",
    "        return True\n",
    "                      \n",
    "    if splitArrayHelper(start+1, nums, group1, group2 + nums[start]):\n",
    "        return True\n",
    "                                \n",
    "    return False\n",
    "\n",
    "\n",
    "\n",
    "print(splitArray([2, 2])) \n",
    "print(splitArray([2, 3])) \n",
    "print(splitArray([2, 5, 3]))"
   ]
  },
  {
   "cell_type": "code",
   "execution_count": 7,
   "metadata": {},
   "outputs": [
    {
     "data": {
      "text/plain": [
       "True"
      ]
     },
     "execution_count": 7,
     "metadata": {},
     "output_type": "execute_result"
    }
   ],
   "source": [
    "#28\n",
    "def splitOdd10(nums):\n",
    "    return helper(nums, 0, 0, 0)\n",
    "\n",
    "def helper(nums, idx, oddsum, evensum):\n",
    "    if idx >= len(nums):\n",
    "        return oddsum % 2 == 1 and evensum % 10 == 0\n",
    "\n",
    "    if helper(nums, idx + 1, oddsum, evensum + nums[idx]):\n",
    "        return True\n",
    "\n",
    "    if helper(nums, idx + 1, oddsum + nums[idx], evensum):\n",
    "        return True\n",
    "\n",
    "    return False\n",
    "\n",
    "\n",
    "splitOdd10([5, 5, 5])\n"
   ]
  },
  {
   "cell_type": "code",
   "execution_count": 5,
   "metadata": {},
   "outputs": [
    {
     "data": {
      "text/plain": [
       "True"
      ]
     },
     "execution_count": 5,
     "metadata": {},
     "output_type": "execute_result"
    }
   ],
   "source": [
    "#29\n",
    "\n",
    "def split53(nums):\n",
    "    return helper(nums, 0, 0)\n",
    "\n",
    "def helper(nums, sum_3, sum_5):\n",
    "    if not nums:\n",
    "        return sum_3 == sum_5\n",
    "    \n",
    "    num = nums[0]\n",
    "    if num % 5 == 0:\n",
    "        return helper(nums[1:], sum_3, sum_5 + num)\n",
    "    elif num % 3 == 0:\n",
    "        return helper(nums[1:], sum_3 + num, sum_5)\n",
    "    else:\n",
    "        return helper(nums[1:], sum_3 + num, sum_5) or helper(nums[1:], sum_3, sum_5 + num)\n",
    "    \n",
    "    \n",
    "split53([1, 1])\n"
   ]
  },
  {
   "cell_type": "code",
   "execution_count": 10,
   "metadata": {},
   "outputs": [
    {
     "data": {
      "text/plain": [
       "True"
      ]
     },
     "execution_count": 10,
     "metadata": {},
     "output_type": "execute_result"
    }
   ],
   "source": [
    "#30 \n",
    "def groupSum5(start, nums, target): \n",
    "    # Base Case \n",
    "    if start >= len(nums): \n",
    "        return target == 0\n",
    "  \n",
    "    # If the current element is a multiple of 5 \n",
    "    if nums[start] % 5 == 0: \n",
    "  \n",
    "        # Check if the next element is 1 \n",
    "        if start < len(nums)-1 and nums[start+1] == 1: \n",
    "            return groupSum5(start + 2, nums, target - nums[start]) \n",
    "        else: \n",
    "            return groupSum5(start + 1, nums, target - nums[start]) \n",
    "  \n",
    "    # else try both the cases that include and exclude the current element \n",
    "    return groupSum5(start + 1, nums, target - nums[start]) or groupSum5(start + 1, nums, target)\n",
    "\n",
    "\n",
    "groupSum5(0, [2, 5, 10, 4], 19)\n"
   ]
  },
  {
   "cell_type": "code",
   "execution_count": 9,
   "metadata": {},
   "outputs": [
    {
     "data": {
      "text/plain": [
       "2"
      ]
     },
     "execution_count": 9,
     "metadata": {},
     "output_type": "execute_result"
    }
   ],
   "source": []
  },
  {
   "cell_type": "code",
   "execution_count": null,
   "metadata": {},
   "outputs": [],
   "source": []
  }
 ],
 "metadata": {
  "kernelspec": {
   "display_name": "Python 3",
   "language": "python",
   "name": "python3"
  },
  "language_info": {
   "codemirror_mode": {
    "name": "ipython",
    "version": 3
   },
   "file_extension": ".py",
   "mimetype": "text/x-python",
   "name": "python",
   "nbconvert_exporter": "python",
   "pygments_lexer": "ipython3",
   "version": "3.8.3"
  }
 },
 "nbformat": 4,
 "nbformat_minor": 4
}
